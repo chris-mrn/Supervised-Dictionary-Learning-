{
 "cells": [
  {
   "cell_type": "code",
   "execution_count": 1,
   "id": "import-libraries",
   "metadata": {},
   "outputs": [
    {
     "name": "stderr",
     "output_type": "stream",
     "text": [
      "<frozen importlib._bootstrap>:219: FutureWarning: mne.io.pick.pick_types is deprecated will be removed in 1.6, use documented public API instead. If no appropriate public API exists, please open an issue on GitHub.\n",
      "<frozen importlib._bootstrap>:219: FutureWarning: mne.io.pick.pick_channels_regexp is deprecated will be removed in 1.6, use documented public API instead. If no appropriate public API exists, please open an issue on GitHub.\n",
      "<frozen importlib._bootstrap>:219: FutureWarning: mne.io.pick.channel_type is deprecated will be removed in 1.6, use documented public API instead. If no appropriate public API exists, please open an issue on GitHub.\n",
      "/Users/christophermarouani/opt/anaconda3/envs/ts/lib/python3.8/site-packages/moabb/pipelines/__init__.py:26: ModuleNotFoundError: Tensorflow is not installed. You won't be able to use these MOABB pipelines if you attempt to do so.\n",
      "  warn(\n"
     ]
    }
   ],
   "source": [
    "import numpy as np\n",
    "from Models.SDL_fixD import SDL_fixD\n",
    "from Datasets.utils import load_dataset\n",
    "from sklearn.model_selection import train_test_split\n",
    "from skorch.helper import to_numpy\n"
   ]
  },
  {
   "cell_type": "code",
   "execution_count": 2,
   "id": "load-dataset",
   "metadata": {},
   "outputs": [
    {
     "name": "stderr",
     "output_type": "stream",
     "text": [
      "BNCI2014001 has been renamed to BNCI2014_001. BNCI2014001 will be removed in version 1.1.\n",
      "The dataset class name 'BNCI2014001' must be an abbreviation of its code 'BNCI2014-001'. See moabb.datasets.base.is_abbrev for more information.\n",
      "/Users/christophermarouani/opt/anaconda3/envs/ts/lib/python3.8/site-packages/braindecode/preprocessing/preprocess.py:55: UserWarning: Preprocessing choices with lambda functions cannot be saved.\n",
      "  warn('Preprocessing choices with lambda functions cannot be saved.')\n",
      "<frozen importlib._bootstrap>:219: FutureWarning: mne.io.pick.pick_types is deprecated will be removed in 1.6, use documented public API instead. If no appropriate public API exists, please open an issue on GitHub.\n",
      "<frozen importlib._bootstrap>:219: FutureWarning: mne.io.pick.pick_types is deprecated will be removed in 1.6, use documented public API instead. If no appropriate public API exists, please open an issue on GitHub.\n",
      "<frozen importlib._bootstrap>:219: FutureWarning: mne.io.pick.pick_channels_regexp is deprecated will be removed in 1.6, use documented public API instead. If no appropriate public API exists, please open an issue on GitHub.\n",
      "<frozen importlib._bootstrap>:219: FutureWarning: mne.io.pick.pick_channels_regexp is deprecated will be removed in 1.6, use documented public API instead. If no appropriate public API exists, please open an issue on GitHub.\n",
      "<frozen importlib._bootstrap>:219: FutureWarning: mne.io.pick.pick_types is deprecated will be removed in 1.6, use documented public API instead. If no appropriate public API exists, please open an issue on GitHub.\n",
      "<frozen importlib._bootstrap>:219: FutureWarning: mne.io.pick.pick_channels_regexp is deprecated will be removed in 1.6, use documented public API instead. If no appropriate public API exists, please open an issue on GitHub.\n",
      "<frozen importlib._bootstrap>:219: FutureWarning: mne.io.pick.channel_type is deprecated will be removed in 1.6, use documented public API instead. If no appropriate public API exists, please open an issue on GitHub.\n",
      "<frozen importlib._bootstrap>:219: FutureWarning: mne.io.pick.channel_type is deprecated will be removed in 1.6, use documented public API instead. If no appropriate public API exists, please open an issue on GitHub.\n",
      "<frozen importlib._bootstrap>:219: FutureWarning: mne.io.pick.channel_type is deprecated will be removed in 1.6, use documented public API instead. If no appropriate public API exists, please open an issue on GitHub.\n",
      "<frozen importlib._bootstrap>:219: FutureWarning: mne.io.pick.pick_types is deprecated will be removed in 1.6, use documented public API instead. If no appropriate public API exists, please open an issue on GitHub.\n",
      "<frozen importlib._bootstrap>:219: FutureWarning: mne.io.pick.pick_types is deprecated will be removed in 1.6, use documented public API instead. If no appropriate public API exists, please open an issue on GitHub.\n",
      "<frozen importlib._bootstrap>:219: FutureWarning: mne.io.pick.pick_channels_regexp is deprecated will be removed in 1.6, use documented public API instead. If no appropriate public API exists, please open an issue on GitHub.\n",
      "<frozen importlib._bootstrap>:219: FutureWarning: mne.io.pick.pick_channels_regexp is deprecated will be removed in 1.6, use documented public API instead. If no appropriate public API exists, please open an issue on GitHub.\n",
      "<frozen importlib._bootstrap>:219: FutureWarning: mne.io.pick.channel_type is deprecated will be removed in 1.6, use documented public API instead. If no appropriate public API exists, please open an issue on GitHub.\n",
      "<frozen importlib._bootstrap>:219: FutureWarning: mne.io.pick.channel_type is deprecated will be removed in 1.6, use documented public API instead. If no appropriate public API exists, please open an issue on GitHub.\n",
      "<frozen importlib._bootstrap>:219: FutureWarning: mne.io.pick.pick_types is deprecated will be removed in 1.6, use documented public API instead. If no appropriate public API exists, please open an issue on GitHub.\n",
      "<frozen importlib._bootstrap>:219: FutureWarning: mne.io.pick.pick_channels_regexp is deprecated will be removed in 1.6, use documented public API instead. If no appropriate public API exists, please open an issue on GitHub.\n",
      "<frozen importlib._bootstrap>:219: FutureWarning: mne.io.pick.channel_type is deprecated will be removed in 1.6, use documented public API instead. If no appropriate public API exists, please open an issue on GitHub.\n",
      "<frozen importlib._bootstrap>:219: FutureWarning: mne.io.pick.pick_types is deprecated will be removed in 1.6, use documented public API instead. If no appropriate public API exists, please open an issue on GitHub.\n",
      "<frozen importlib._bootstrap>:219: FutureWarning: mne.io.pick.pick_channels_regexp is deprecated will be removed in 1.6, use documented public API instead. If no appropriate public API exists, please open an issue on GitHub.\n",
      "<frozen importlib._bootstrap>:219: FutureWarning: mne.io.pick.pick_types is deprecated will be removed in 1.6, use documented public API instead. If no appropriate public API exists, please open an issue on GitHub.\n",
      "<frozen importlib._bootstrap>:219: FutureWarning: mne.io.pick.pick_channels_regexp is deprecated will be removed in 1.6, use documented public API instead. If no appropriate public API exists, please open an issue on GitHub.\n",
      "<frozen importlib._bootstrap>:219: FutureWarning: mne.io.pick.channel_type is deprecated will be removed in 1.6, use documented public API instead. If no appropriate public API exists, please open an issue on GitHub.\n",
      "<frozen importlib._bootstrap>:219: FutureWarning: mne.io.pick.channel_type is deprecated will be removed in 1.6, use documented public API instead. If no appropriate public API exists, please open an issue on GitHub.\n",
      "/Users/christophermarouani/opt/anaconda3/envs/ts/lib/python3.8/site-packages/moabb/pipelines/__init__.py:26: ModuleNotFoundError: Tensorflow is not installed. You won't be able to use these MOABB pipelines if you attempt to do so.\n",
      "  warn(\n",
      "/Users/christophermarouani/opt/anaconda3/envs/ts/lib/python3.8/site-packages/moabb/pipelines/__init__.py:26: ModuleNotFoundError: Tensorflow is not installed. You won't be able to use these MOABB pipelines if you attempt to do so.\n",
      "  warn(\n",
      "/Users/christophermarouani/opt/anaconda3/envs/ts/lib/python3.8/site-packages/moabb/pipelines/__init__.py:26: ModuleNotFoundError: Tensorflow is not installed. You won't be able to use these MOABB pipelines if you attempt to do so.\n",
      "  warn(\n",
      "/Users/christophermarouani/opt/anaconda3/envs/ts/lib/python3.8/site-packages/moabb/pipelines/__init__.py:26: ModuleNotFoundError: Tensorflow is not installed. You won't be able to use these MOABB pipelines if you attempt to do so.\n",
      "  warn(\n",
      "/Users/christophermarouani/opt/anaconda3/envs/ts/lib/python3.8/site-packages/moabb/pipelines/__init__.py:26: ModuleNotFoundError: Tensorflow is not installed. You won't be able to use these MOABB pipelines if you attempt to do so.\n",
      "  warn(\n"
     ]
    },
    {
     "name": "stdout",
     "output_type": "stream",
     "text": [
      "NOTE: pick_types() is a legacy function. New code should use inst.pick(...).\n",
      "NOTE: pick_types() is a legacy function. New code should use inst.pick(...).\n",
      "NOTE: pick_types() is a legacy function. New code should use inst.pick(...).\n"
     ]
    },
    {
     "name": "stderr",
     "output_type": "stream",
     "text": [
      "/Users/christophermarouani/opt/anaconda3/envs/ts/lib/python3.8/site-packages/moabb/pipelines/__init__.py:26: ModuleNotFoundError: Tensorflow is not installed. You won't be able to use these MOABB pipelines if you attempt to do so.\n",
      "  warn(\n",
      "/Users/christophermarouani/opt/anaconda3/envs/ts/lib/python3.8/site-packages/moabb/pipelines/__init__.py:26: ModuleNotFoundError: Tensorflow is not installed. You won't be able to use these MOABB pipelines if you attempt to do so.\n",
      "  warn(\n"
     ]
    },
    {
     "name": "stdout",
     "output_type": "stream",
     "text": [
      "NOTE: pick_types() is a legacy function. New code should use inst.pick(...).\n",
      "NOTE: pick_types() is a legacy function. New code should use inst.pick(...).\n",
      "NOTE: pick_types() is a legacy function. New code should use inst.pick(...).\n",
      "NOTE: pick_types() is a legacy function. New code should use inst.pick(...).\n"
     ]
    },
    {
     "name": "stderr",
     "output_type": "stream",
     "text": [
      "/Users/christophermarouani/opt/anaconda3/envs/ts/lib/python3.8/site-packages/moabb/pipelines/__init__.py:26: ModuleNotFoundError: Tensorflow is not installed. You won't be able to use these MOABB pipelines if you attempt to do so.\n",
      "  warn(\n"
     ]
    },
    {
     "name": "stdout",
     "output_type": "stream",
     "text": [
      "NOTE: pick_types() is a legacy function. New code should use inst.pick(...).\n",
      "Filtering raw data in 1 contiguous segment\n",
      "Setting up band-pass filter from 4 - 38 Hz\n",
      "\n",
      "FIR filter parameters\n",
      "---------------------\n",
      "Designing a one-pass, zero-phase, non-causal bandpass filter:\n",
      "- Windowed time-domain design (firwin) method\n",
      "- Hamming window with 0.0194 passband ripple and 53 dB stopband attenuation\n",
      "- Lower passband edge: 4.00\n",
      "- Lower transition bandwidth: 2.00 Hz (-6 dB cutoff frequency: 3.00 Hz)\n",
      "- Upper passband edge: 38.00 Hz\n",
      "- Upper transition bandwidth: 9.50 Hz (-6 dB cutoff frequency: 42.75 Hz)\n",
      "- Filter length: 413 samples (1.652 s)\n",
      "\n",
      "Filtering raw data in 1 contiguous segment\n",
      "Setting up band-pass filter from 4 - 38 Hz\n",
      "\n",
      "FIR filter parameters\n",
      "---------------------\n",
      "Designing a one-pass, zero-phase, non-causal bandpass filter:\n",
      "- Windowed time-domain design (firwin) method\n",
      "- Hamming window with 0.0194 passband ripple and 53 dB stopband attenuation\n",
      "- Lower passband edge: 4.00\n",
      "- Lower transition bandwidth: 2.00 Hz (-6 dB cutoff frequency: 3.00 Hz)\n",
      "- Upper passband edge: 38.00 Hz\n",
      "- Upper transition bandwidth: 9.50 Hz (-6 dB cutoff frequency: 42.75 Hz)\n",
      "- Filter length: 413 samples (1.652 s)\n",
      "\n",
      "Filtering raw data in 1 contiguous segment\n",
      "Setting up band-pass filter from 4 - 38 Hz\n",
      "\n",
      "FIR filter parameters\n",
      "---------------------\n",
      "Designing a one-pass, zero-phase, non-causal bandpass filter:\n",
      "- Windowed time-domain design (firwin) method\n",
      "- Hamming window with 0.0194 passband ripple and 53 dB stopband attenuation\n",
      "- Lower passband edge: 4.00\n",
      "- Lower transition bandwidth: 2.00 Hz (-6 dB cutoff frequency: 3.00 Hz)\n",
      "- Upper passband edge: 38.00 Hz\n",
      "- Upper transition bandwidth: 9.50 Hz (-6 dB cutoff frequency: 42.75 Hz)\n",
      "- Filter length: 413 samples (1.652 s)\n",
      "\n"
     ]
    },
    {
     "name": "stderr",
     "output_type": "stream",
     "text": [
      "[Parallel(n_jobs=1)]: Done  17 tasks      | elapsed:    0.2s\n",
      "[Parallel(n_jobs=1)]: Done  17 tasks      | elapsed:    0.2s\n"
     ]
    },
    {
     "name": "stdout",
     "output_type": "stream",
     "text": [
      "Filtering raw data in 1 contiguous segment\n",
      "Setting up band-pass filter from 4 - 38 Hz\n",
      "\n",
      "FIR filter parameters\n",
      "---------------------\n",
      "Designing a one-pass, zero-phase, non-causal bandpass filter:\n",
      "- Windowed time-domain design (firwin) method\n",
      "- Hamming window with 0.0194 passband ripple and 53 dB stopband attenuation\n",
      "- Lower passband edge: 4.00\n",
      "- Lower transition bandwidth: 2.00 Hz (-6 dB cutoff frequency: 3.00 Hz)\n",
      "- Upper passband edge: 38.00 Hz\n",
      "- Upper transition bandwidth: 9.50 Hz (-6 dB cutoff frequency: 42.75 Hz)\n",
      "- Filter length: 413 samples (1.652 s)\n",
      "\n",
      "Filtering raw data in 1 contiguous segment\n",
      "Setting up band-pass filter from 4 - 38 Hz\n",
      "\n",
      "FIR filter parameters\n",
      "---------------------\n",
      "Designing a one-pass, zero-phase, non-causal bandpass filter:\n",
      "- Windowed time-domain design (firwin) method\n",
      "- Hamming window with 0.0194 passband ripple and 53 dB stopband attenuation\n",
      "- Lower passband edge: 4.00\n",
      "- Lower transition bandwidth: 2.00 Hz (-6 dB cutoff frequency: 3.00 Hz)\n",
      "- Upper passband edge: 38.00 Hz\n",
      "- Upper transition bandwidth: 9.50 Hz (-6 dB cutoff frequency: 42.75 Hz)\n",
      "- Filter length: 413 samples (1.652 s)\n",
      "\n",
      "Filtering raw data in 1 contiguous segment\n",
      "Setting up band-pass filter from 4 - 38 Hz\n",
      "\n",
      "FIR filter parameters\n",
      "---------------------\n",
      "Designing a one-pass, zero-phase, non-causal bandpass filter:\n",
      "- Windowed time-domain design (firwin) method\n",
      "- Hamming window with 0.0194 passband ripple and 53 dB stopband attenuation\n",
      "- Lower passband edge: 4.00\n",
      "- Lower transition bandwidth: 2.00 Hz (-6 dB cutoff frequency: 3.00 Hz)\n",
      "- Upper passband edge: 38.00 Hz\n",
      "- Upper transition bandwidth: 9.50 Hz (-6 dB cutoff frequency: 42.75 Hz)\n",
      "- Filter length: 413 samples (1.652 s)\n",
      "\n"
     ]
    },
    {
     "name": "stderr",
     "output_type": "stream",
     "text": [
      "[Parallel(n_jobs=1)]: Done  17 tasks      | elapsed:    0.4s\n",
      "[Parallel(n_jobs=1)]: Done  17 tasks      | elapsed:    0.2s\n",
      "[Parallel(n_jobs=1)]: Done  17 tasks      | elapsed:    0.2s\n",
      "[Parallel(n_jobs=1)]: Done  17 tasks      | elapsed:    0.2s\n"
     ]
    },
    {
     "name": "stdout",
     "output_type": "stream",
     "text": [
      "Filtering raw data in 1 contiguous segment\n",
      "Setting up band-pass filter from 4 - 38 Hz\n",
      "\n",
      "FIR filter parameters\n",
      "---------------------\n",
      "Designing a one-pass, zero-phase, non-causal bandpass filter:\n",
      "- Windowed time-domain design (firwin) method\n",
      "- Hamming window with 0.0194 passband ripple and 53 dB stopband attenuation\n",
      "- Lower passband edge: 4.00\n",
      "- Lower transition bandwidth: 2.00 Hz (-6 dB cutoff frequency: 3.00 Hz)\n",
      "- Upper passband edge: 38.00 Hz\n",
      "- Upper transition bandwidth: 9.50 Hz (-6 dB cutoff frequency: 42.75 Hz)\n",
      "- Filter length: 413 samples (1.652 s)\n",
      "\n",
      "Filtering raw data in 1 contiguous segment\n",
      "Setting up band-pass filter from 4 - 38 Hz\n",
      "\n",
      "FIR filter parameters\n",
      "---------------------\n",
      "Designing a one-pass, zero-phase, non-causal bandpass filter:\n",
      "- Windowed time-domain design (firwin) method\n",
      "- Hamming window with 0.0194 passband ripple and 53 dB stopband attenuation\n",
      "- Lower passband edge: 4.00\n",
      "- Lower transition bandwidth: 2.00 Hz (-6 dB cutoff frequency: 3.00 Hz)\n",
      "- Upper passband edge: 38.00 Hz\n",
      "- Upper transition bandwidth: 9.50 Hz (-6 dB cutoff frequency: 42.75 Hz)\n",
      "- Filter length: 413 samples (1.652 s)\n",
      "\n"
     ]
    },
    {
     "name": "stderr",
     "output_type": "stream",
     "text": [
      "[Parallel(n_jobs=1)]: Done  17 tasks      | elapsed:    0.1s\n",
      "[Parallel(n_jobs=1)]: Done  17 tasks      | elapsed:    0.1s\n"
     ]
    },
    {
     "name": "stdout",
     "output_type": "stream",
     "text": [
      "NOTE: pick_types() is a legacy function. New code should use inst.pick(...).\n",
      "Filtering raw data in 1 contiguous segment\n",
      "Setting up band-pass filter from 4 - 38 Hz\n",
      "\n",
      "FIR filter parameters\n",
      "---------------------\n",
      "Designing a one-pass, zero-phase, non-causal bandpass filter:\n",
      "- Windowed time-domain design (firwin) method\n",
      "- Hamming window with 0.0194 passband ripple and 53 dB stopband attenuation\n",
      "- Lower passband edge: 4.00\n",
      "- Lower transition bandwidth: 2.00 Hz (-6 dB cutoff frequency: 3.00 Hz)\n",
      "- Upper passband edge: 38.00 Hz\n",
      "- Upper transition bandwidth: 9.50 Hz (-6 dB cutoff frequency: 42.75 Hz)\n",
      "- Filter length: 413 samples (1.652 s)\n",
      "\n",
      "NOTE: pick_types() is a legacy function. New code should use inst.pick(...).\n",
      "Filtering raw data in 1 contiguous segment\n",
      "Setting up band-pass filter from 4 - 38 Hz\n",
      "\n",
      "FIR filter parameters\n",
      "---------------------\n",
      "Designing a one-pass, zero-phase, non-causal bandpass filter:\n",
      "- Windowed time-domain design (firwin) method\n",
      "- Hamming window with 0.0194 passband ripple and 53 dB stopband attenuation\n",
      "- Lower passband edge: 4.00\n",
      "- Lower transition bandwidth: 2.00 Hz (-6 dB cutoff frequency: 3.00 Hz)\n",
      "- Upper passband edge: 38.00 Hz\n",
      "- Upper transition bandwidth: 9.50 Hz (-6 dB cutoff frequency: 42.75 Hz)\n",
      "- Filter length: 413 samples (1.652 s)\n",
      "\n"
     ]
    },
    {
     "name": "stderr",
     "output_type": "stream",
     "text": [
      "[Parallel(n_jobs=1)]: Done  17 tasks      | elapsed:    0.1s\n",
      "[Parallel(n_jobs=1)]: Done  17 tasks      | elapsed:    0.1s\n"
     ]
    },
    {
     "name": "stdout",
     "output_type": "stream",
     "text": [
      "NOTE: pick_types() is a legacy function. New code should use inst.pick(...).\n",
      "Filtering raw data in 1 contiguous segment\n",
      "Setting up band-pass filter from 4 - 38 Hz\n",
      "\n",
      "FIR filter parameters\n",
      "---------------------\n",
      "Designing a one-pass, zero-phase, non-causal bandpass filter:\n",
      "- Windowed time-domain design (firwin) method\n",
      "- Hamming window with 0.0194 passband ripple and 53 dB stopband attenuation\n",
      "- Lower passband edge: 4.00\n",
      "- Lower transition bandwidth: 2.00 Hz (-6 dB cutoff frequency: 3.00 Hz)\n",
      "- Upper passband edge: 38.00 Hz\n",
      "- Upper transition bandwidth: 9.50 Hz (-6 dB cutoff frequency: 42.75 Hz)\n",
      "- Filter length: 413 samples (1.652 s)\n",
      "\n"
     ]
    },
    {
     "name": "stderr",
     "output_type": "stream",
     "text": [
      "[Parallel(n_jobs=1)]: Done  17 tasks      | elapsed:    0.1s\n"
     ]
    },
    {
     "name": "stdout",
     "output_type": "stream",
     "text": [
      "NOTE: pick_types() is a legacy function. New code should use inst.pick(...).\n",
      "Filtering raw data in 1 contiguous segment\n",
      "Setting up band-pass filter from 4 - 38 Hz\n",
      "\n",
      "FIR filter parameters\n",
      "---------------------\n",
      "Designing a one-pass, zero-phase, non-causal bandpass filter:\n",
      "- Windowed time-domain design (firwin) method\n",
      "- Hamming window with 0.0194 passband ripple and 53 dB stopband attenuation\n",
      "- Lower passband edge: 4.00\n",
      "- Lower transition bandwidth: 2.00 Hz (-6 dB cutoff frequency: 3.00 Hz)\n",
      "- Upper passband edge: 38.00 Hz\n",
      "- Upper transition bandwidth: 9.50 Hz (-6 dB cutoff frequency: 42.75 Hz)\n",
      "- Filter length: 413 samples (1.652 s)\n",
      "\n"
     ]
    },
    {
     "name": "stderr",
     "output_type": "stream",
     "text": [
      "[Parallel(n_jobs=1)]: Done  17 tasks      | elapsed:    0.1s\n"
     ]
    },
    {
     "name": "stdout",
     "output_type": "stream",
     "text": [
      "Used Annotations descriptions: ['left_hand', 'right_hand']\n",
      "Used Annotations descriptions: ['left_hand', 'right_hand']\n",
      "Used Annotations descriptions: ['left_hand', 'right_hand']\n",
      "Used Annotations descriptions: ['left_hand', 'right_hand']\n",
      "Used Annotations descriptions: ['left_hand', 'right_hand']\n",
      "Used Annotations descriptions: ['left_hand', 'right_hand']\n",
      "Used Annotations descriptions: ['left_hand', 'right_hand']\n",
      "Used Annotations descriptions: ['left_hand', 'right_hand']\n",
      "Used Annotations descriptions: ['left_hand', 'right_hand']\n",
      "Used Annotations descriptions: ['left_hand', 'right_hand']\n",
      "Used Annotations descriptions: ['left_hand', 'right_hand']\n",
      "Used Annotations descriptions: ['left_hand', 'right_hand']\n"
     ]
    }
   ],
   "source": [
    "# Charger le dataset BNCI\n",
    "X, y = load_dataset('bnci')\n",
    "X = to_numpy(X)\n",
    "y = to_numpy(y)\n",
    "\n",
    "# Diviser en ensembles d'entraînement et de test\n",
    "X_train, X_test, y_train, y_test = train_test_split(X, y, test_size=0.2, random_state=42)\n"
   ]
  },
  {
   "cell_type": "code",
   "execution_count": 3,
   "id": "initialize-train-model",
   "metadata": {},
   "outputs": [
    {
     "name": "stdout",
     "output_type": "stream",
     "text": [
      "[BatchCDL] CD iterations 0 / 20\n",
      "[BatchCDL] lambda = 5.173e+00\n",
      "[BatchCDL] Objective (z) : 2.227e+06 (sparsity: 4.383e-02)\n",
      "[BatchCDL] Objective (d) : 2.142e+06\n",
      "[BatchCDL] CD iterations 1 / 20\n",
      "[BatchCDL] Objective (z) : 2.124e+06 (sparsity: 4.543e-02)\n",
      "[BatchCDL] Objective (d) : 2.119e+06\n",
      "[BatchCDL] CD iterations 2 / 20\n",
      "[BatchCDL] Objective (z) : 2.114e+06 (sparsity: 4.744e-02)\n",
      "[BatchCDL] Objective (d) : 2.112e+06\n",
      "[BatchCDL] CD iterations 3 / 20\n",
      "[BatchCDL] Objective (z) : 2.110e+06 (sparsity: 4.875e-02)\n",
      "[BatchCDL] Objective (d) : 2.109e+06\n",
      "[BatchCDL] CD iterations 4 / 20\n",
      "[BatchCDL] Objective (z) : 2.108e+06 (sparsity: 4.963e-02)\n",
      "[BatchCDL] Objective (d) : 2.108e+06\n",
      "[BatchCDL] CD iterations 5 / 20\n",
      "[BatchCDL] Objective (z) : 2.107e+06 (sparsity: 5.029e-02)\n",
      "[BatchCDL] Objective (d) : 2.107e+06\n",
      "[BatchCDL] CD iterations 6 / 20\n",
      "[BatchCDL] Objective (z) : 2.106e+06 (sparsity: 5.098e-02)\n",
      "[BatchCDL] Objective (d) : 2.106e+06\n",
      "[BatchCDL] CD iterations 7 / 20\n",
      "[BatchCDL] Objective (z) : 2.105e+06 (sparsity: 5.160e-02)\n",
      "[BatchCDL] Objective (d) : 2.105e+06\n",
      "[BatchCDL] CD iterations 8 / 20\n",
      "[BatchCDL] Objective (z) : 2.105e+06 (sparsity: 5.219e-02)\n",
      "[BatchCDL] Objective (d) : 2.105e+06\n",
      "[BatchCDL] CD iterations 9 / 20\n",
      "[BatchCDL] Objective (z) : 2.104e+06 (sparsity: 5.271e-02)\n",
      "[BatchCDL] Objective (d) : 2.104e+06\n",
      "[BatchCDL] CD iterations 10 / 20\n",
      "[BatchCDL] Objective (z) : 2.104e+06 (sparsity: 5.320e-02)\n",
      "[BatchCDL] Objective (d) : 2.104e+06\n",
      "[BatchCDL] CD iterations 11 / 20\n",
      "[BatchCDL] Objective (z) : 2.104e+06 (sparsity: 5.363e-02)\n",
      "[BatchCDL] Objective (d) : 2.103e+06\n",
      "[BatchCDL] CD iterations 12 / 20\n",
      "[BatchCDL] Objective (z) : 2.103e+06 (sparsity: 5.402e-02)\n",
      "[BatchCDL] Objective (d) : 2.103e+06\n",
      "[BatchCDL] CD iterations 13 / 20\n",
      "[BatchCDL] Objective (z) : 2.103e+06 (sparsity: 5.439e-02)\n",
      "[BatchCDL] Objective (d) : 2.103e+06\n",
      "[BatchCDL] CD iterations 14 / 20\n",
      "[BatchCDL] Objective (z) : 2.103e+06 (sparsity: 5.475e-02)\n",
      "[BatchCDL] Objective (d) : 2.103e+06\n",
      "[BatchCDL] CD iterations 15 / 20\n",
      "[BatchCDL] Objective (z) : 2.103e+06 (sparsity: 5.505e-02)\n",
      "[BatchCDL] Objective (d) : 2.102e+06\n",
      "[BatchCDL] CD iterations 16 / 20\n",
      "[BatchCDL] Objective (z) : 2.102e+06 (sparsity: 5.534e-02)\n",
      "[BatchCDL] Objective (d) : 2.102e+06\n",
      "[BatchCDL] CD iterations 17 / 20\n",
      "[BatchCDL] Objective (z) : 2.102e+06 (sparsity: 5.560e-02)\n",
      "[BatchCDL] Objective (d) : 2.102e+06\n",
      "[BatchCDL] CD iterations 18 / 20\n",
      "[BatchCDL] Objective (z) : 2.102e+06 (sparsity: 5.580e-02)\n",
      "[BatchCDL] Objective (d) : 2.102e+06\n",
      "[BatchCDL] CD iterations 19 / 20\n",
      "[BatchCDL] Objective (z) : 2.102e+06 (sparsity: 5.600e-02)\n",
      "[BatchCDL] Objective (d) : 2.102e+06\n",
      "[BatchCDL] Fit in 387.3s\n"
     ]
    }
   ],
   "source": [
    "# Initialiser et entraîner le modèle SDL_fixD\n",
    "model = SDL_fixD(n_atoms=10, n_times_atom=5, regularization_param=1.0, n_iter=20)\n",
    "model.fit(X_train, y_train)\n"
   ]
  },
  {
   "cell_type": "code",
   "execution_count": 5,
   "id": "evaluate-model",
   "metadata": {},
   "outputs": [
    {
     "name": "stdout",
     "output_type": "stream",
     "text": [
      "[BatchCDL] CD iterations 0 / 20\n",
      "[BatchCDL] lambda = 4.870e+00\n",
      "[BatchCDL] Objective (z) : 5.590e+05 (sparsity: 4.034e-02)\n",
      "[BatchCDL] Objective (d) : 5.310e+05\n",
      "[BatchCDL] CD iterations 1 / 20\n",
      "[BatchCDL] Objective (z) : 5.229e+05 (sparsity: 4.526e-02)\n",
      "[BatchCDL] Objective (d) : 5.213e+05\n",
      "[BatchCDL] CD iterations 2 / 20\n",
      "[BatchCDL] Objective (z) : 5.198e+05 (sparsity: 4.837e-02)\n",
      "[BatchCDL] Objective (d) : 5.192e+05\n",
      "[BatchCDL] CD iterations 3 / 20\n",
      "[BatchCDL] Objective (z) : 5.185e+05 (sparsity: 4.944e-02)\n",
      "[BatchCDL] Objective (d) : 5.181e+05\n",
      "[BatchCDL] CD iterations 4 / 20\n",
      "[BatchCDL] Objective (z) : 5.178e+05 (sparsity: 5.006e-02)\n",
      "[BatchCDL] Objective (d) : 5.175e+05\n",
      "[BatchCDL] CD iterations 5 / 20\n",
      "[BatchCDL] Objective (z) : 5.173e+05 (sparsity: 5.042e-02)\n",
      "[BatchCDL] Objective (d) : 5.172e+05\n",
      "[BatchCDL] CD iterations 6 / 20\n",
      "[BatchCDL] Objective (z) : 5.171e+05 (sparsity: 5.081e-02)\n",
      "[BatchCDL] Objective (d) : 5.170e+05\n",
      "[BatchCDL] CD iterations 7 / 20\n",
      "[BatchCDL] Objective (z) : 5.170e+05 (sparsity: 5.109e-02)\n",
      "[BatchCDL] Objective (d) : 5.170e+05\n",
      "[BatchCDL] CD iterations 8 / 20\n",
      "[BatchCDL] Objective (z) : 5.169e+05 (sparsity: 5.132e-02)\n",
      "[BatchCDL] Objective (d) : 5.169e+05\n",
      "[BatchCDL] CD iterations 9 / 20\n",
      "[BatchCDL] Objective (z) : 5.169e+05 (sparsity: 5.158e-02)\n",
      "[BatchCDL] Objective (d) : 5.169e+05\n",
      "[BatchCDL] CD iterations 10 / 20\n",
      "[BatchCDL] Objective (z) : 5.168e+05 (sparsity: 5.179e-02)\n",
      "[BatchCDL] Objective (d) : 5.168e+05\n",
      "[BatchCDL] CD iterations 11 / 20\n",
      "[BatchCDL] Objective (z) : 5.168e+05 (sparsity: 5.197e-02)\n",
      "[BatchCDL] Objective (d) : 5.168e+05\n",
      "[BatchCDL] CD iterations 12 / 20\n",
      "[BatchCDL] Objective (z) : 5.168e+05 (sparsity: 5.214e-02)\n",
      "[BatchCDL] Objective (d) : 5.168e+05\n",
      "[BatchCDL] CD iterations 13 / 20\n",
      "[BatchCDL] Objective (z) : 5.168e+05 (sparsity: 5.225e-02)\n",
      "[BatchCDL] Objective (d) : 5.167e+05\n",
      "[BatchCDL] CD iterations 14 / 20\n",
      "[BatchCDL] Objective (z) : 5.167e+05 (sparsity: 5.239e-02)\n",
      "[BatchCDL] Objective (d) : 5.167e+05\n",
      "[BatchCDL] CD iterations 15 / 20\n",
      "[BatchCDL] Objective (z) : 5.167e+05 (sparsity: 5.259e-02)\n",
      "[BatchCDL] Objective (d) : 5.167e+05\n",
      "[BatchCDL] CD iterations 16 / 20\n",
      "[BatchCDL] Objective (z) : 5.167e+05 (sparsity: 5.274e-02)\n",
      "[BatchCDL] Objective (d) : 5.167e+05\n",
      "[BatchCDL] CD iterations 17 / 20\n",
      "[BatchCDL] Objective (z) : 5.167e+05 (sparsity: 5.292e-02)\n",
      "[BatchCDL] Objective (d) : 5.166e+05\n",
      "[BatchCDL] CD iterations 18 / 20\n",
      "[BatchCDL] Objective (z) : 5.166e+05 (sparsity: 5.309e-02)\n",
      "[BatchCDL] Objective (d) : 5.166e+05\n",
      "[BatchCDL] CD iterations 19 / 20\n",
      "[BatchCDL] Objective (z) : 5.166e+05 (sparsity: 5.326e-02)\n",
      "[BatchCDL] Objective (d) : 5.166e+05\n",
      "[BatchCDL] Fit in 107.0s\n",
      "Précision sur lensemble de test: 0.5172413793103449\n"
     ]
    }
   ],
   "source": [
    "# Évaluer le modèle sur l'ensemble de test\n",
    "accuracy = model.score(X_test, y_test)\n",
    "print( 'Précision sur lensemble de test:', accuracy)\n"
   ]
  }
 ],
 "metadata": {
  "kernelspec": {
   "display_name": "ts",
   "language": "python",
   "name": "python3"
  },
  "language_info": {
   "codemirror_mode": {
    "name": "ipython",
    "version": 3
   },
   "file_extension": ".py",
   "mimetype": "text/x-python",
   "name": "python",
   "nbconvert_exporter": "python",
   "pygments_lexer": "ipython3",
   "version": "3.8.10"
  }
 },
 "nbformat": 4,
 "nbformat_minor": 5
}
